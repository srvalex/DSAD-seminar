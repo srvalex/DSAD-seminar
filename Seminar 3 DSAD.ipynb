{
 "cells": [
  {
   "cell_type": "code",
   "execution_count": 8,
   "id": "6035c68a",
   "metadata": {},
   "outputs": [],
   "source": [
    "import numpy as np\n",
    "import time\n",
    "from functools import reduce"
   ]
  },
  {
   "cell_type": "code",
   "execution_count": 6,
   "id": "9332a11d",
   "metadata": {},
   "outputs": [
    {
     "name": "stdout",
     "output_type": "stream",
     "text": [
      "Tile: [1 2 3 1 2 3]\n",
      "Repeat: [1 1 2 2 3 3]\n"
     ]
    }
   ],
   "source": [
    "a = np.array([1,2,3])\n",
    "print(\"Tile:\", np.tile(a,2))\n",
    "print(\"Repeat:\", np.repeat(a,2))"
   ]
  },
  {
   "cell_type": "code",
   "execution_count": null,
   "id": "332a087c",
   "metadata": {},
   "outputs": [
    {
     "name": "stdout",
     "output_type": "stream",
     "text": [
      "10 20\n"
     ]
    }
   ],
   "source": [
    "# Copii intre ndarrays + referinte\n",
    "b = a #Shallow = partajeaza aceiasi adresa de memorie\n",
    "c = a.copy() # Deep copy: Se aloca o zona noua de memorie\n",
    "b[0] = 10\n",
    "c[0] = 20\n",
    "print(b,c)"
   ]
  },
  {
   "cell_type": "code",
   "execution_count": null,
   "id": "bcc83b9a",
   "metadata": {},
   "outputs": [],
   "source": [
    "#Performanta in numpy"
   ]
  },
  {
   "cell_type": "code",
   "execution_count": null,
   "id": "a6bd68cd",
   "metadata": {},
   "outputs": [
    {
     "name": "stdout",
     "output_type": "stream",
     "text": [
      "Comparatie in termeni de performanta\n",
      "Timp numpy: 0.00982\n",
      "Timp lista: 0.65062\n",
      "Delta: -0.64080\n"
     ]
    }
   ],
   "source": [
    "start_opeartie_numpy = time.time()\n",
    "a = np.arange(1,1_000_001) #1_000_001 <=> 1.000.001 (la nivel conceptual)\n",
    "a_squared = a**2\n",
    "durata_operartie_numpy = time.time() - start_opeartie_numpy\n",
    "\n",
    "\n",
    "start_lista = time.time()\n",
    "\n",
    "lst = [i **2 for i in range(1,1000001)]\n",
    "#lst_sqare = [i**2 for i in lst]\n",
    "durata_operartie_lista = time.time() - start_lista\n",
    "\n",
    "print(\"Comparatie in termeni de performanta\")\n",
    "print(f\"Timp numpy: {durata_operartie_numpy:.5f}\")\n",
    "print(f\"Timp lista: {durata_operartie_lista:.5f}\")\n",
    "print(f\"Delta: {durata_operartie_numpy-durata_operartie_lista:.5f}\")\n",
    "# Testele de performanta\n",
    "# Ne uitam la timpul de exectutie pe acelasi test rulat de cateva mii de ori\n",
    "# si faci o medie a timpului iteratiilor\n",
    "# Ne uitam si la loading-ul din memorie"
   ]
  },
  {
   "cell_type": "code",
   "execution_count": null,
   "id": "c9b241ea",
   "metadata": {},
   "outputs": [
    {
     "name": "stdout",
     "output_type": "stream",
     "text": [
      "Broadcasting de elemente:\n",
      " [[ 2  4  6]\n",
      " [ 8 10 12]]\n",
      "inmultire elemente cu element: \n",
      " [[2 4]\n",
      " [6 8]]\n",
      "Multiplcicare matriceala: \n",
      " [[ 6  6]\n",
      " [14 14]]\n",
      "multiplicare cu numpy:\n",
      " [[ 6  6]\n",
      " [14 14]]\n"
     ]
    }
   ],
   "source": [
    "#broadcasting si operatii pe ndarrays\n",
    "# broadcasting = modalitatea prin care numpy rezolva operatii intre ndarrays\n",
    "# print extinderea automata a ndarray-ului de forma mai mica a.i. acesta sa se \n",
    "# potriveasca celui mare\n",
    "\n",
    "c = np.array([\n",
    "    [1,2,3],\n",
    "    [4,5,6]\n",
    "])\n",
    "print(\"Broadcasting de elemente:\\n\",c*2) # inmultire cu un scalar\n",
    "\n",
    "x = np.array([\n",
    "    [1,2],\n",
    "    [3,4]\n",
    "])\n",
    "\n",
    "y = np.array([\n",
    "    [2,2],\n",
    "    [2,2]\n",
    "])\n",
    "\n",
    "print(\"inmultire elemente cu element: \\n\",  x * y)\n",
    "\n",
    "print(\"Multiplcicare matriceala: \\n\",x@y)\n",
    "#Echivalent\n",
    "print(\"multiplicare cu numpy:\\n\",np.dot(x,y))\n",
    "\n",
    "\n",
    "a = np.array([\n",
    "    [1,2],\n",
    "    [3,4],\n",
    "    [5,6]\n",
    "])\n",
    "\n",
    "b = np.array([\n",
    "    [1,2,3],\n",
    "    [4,5,6],\n",
    "    [7,8,9]\n",
    "])\n",
    "\n",
    "print(a*b)"
   ]
  },
  {
   "cell_type": "code",
   "execution_count": null,
   "id": "8a3ba0af",
   "metadata": {},
   "outputs": [],
   "source": []
  }
 ],
 "metadata": {
  "kernelspec": {
   "display_name": "Python NN",
   "language": "python",
   "name": "neuralnets"
  },
  "language_info": {
   "codemirror_mode": {
    "name": "ipython",
    "version": 3
   },
   "file_extension": ".py",
   "mimetype": "text/x-python",
   "name": "python",
   "nbconvert_exporter": "python",
   "pygments_lexer": "ipython3",
   "version": "3.10.18"
  }
 },
 "nbformat": 4,
 "nbformat_minor": 5
}
